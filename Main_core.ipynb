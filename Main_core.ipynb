{
 "cells": [
  {
   "cell_type": "code",
   "execution_count": 25,
   "metadata": {},
   "outputs": [],
   "source": [
    "import pandas as pd\n",
    "import numpy as np\n",
    "import matplotlib.pyplot as plt\n",
    "import torch\n",
    "import re\n",
    "\n",
    "from datasets import load_dataset, DatasetDict\n",
    "from huggingface_hub import login\n",
    "from transformers import AutoTokenizer, AutoModelForCausalLM, pipeline, TrainingArguments\n",
    "from peft import PeftModel, LoraConfig\n",
    "from random import randint\n",
    "from trl import SFTTrainer"
   ]
  },
  {
   "cell_type": "code",
   "execution_count": 2,
   "metadata": {},
   "outputs": [
    {
     "name": "stdout",
     "output_type": "stream",
     "text": [
      "GPU available: NVIDIA GeForce RTX 4060 Laptop GPU\n"
     ]
    }
   ],
   "source": [
    "assert torch.cuda.get_device_capability()[0] >= 8, 'Hardware not supported for Flash Attention'\n",
    "if torch.cuda.is_available():\n",
    "    print(\"GPU available:\", torch.cuda.get_device_name(0))\n",
    "    device = \"cuda\"\n",
    "else:\n",
    "    print(\"No GPU detected\")\n",
    "    device = \"cpu\""
   ]
  },
  {
   "cell_type": "markdown",
   "metadata": {},
   "source": [
    "## Daily_dialog"
   ]
  },
  {
   "cell_type": "code",
   "execution_count": 7,
   "metadata": {},
   "outputs": [
    {
     "name": "stderr",
     "output_type": "stream",
     "text": [
      "Downloading data: 100%|██████████| 4.48M/4.48M [00:00<00:00, 5.57MB/s]\n",
      "Generating train split: 100%|██████████| 11118/11118 [00:00<00:00, 12958.66 examples/s]\n",
      "Generating validation split: 100%|██████████| 1000/1000 [00:00<00:00, 10390.58 examples/s]\n",
      "Generating test split: 100%|██████████| 1000/1000 [00:00<00:00, 10409.38 examples/s]\n"
     ]
    },
    {
     "data": {
      "text/plain": [
       "DatasetDict({\n",
       "    train: Dataset({\n",
       "        features: ['dialog', 'act', 'emotion'],\n",
       "        num_rows: 11118\n",
       "    })\n",
       "    validation: Dataset({\n",
       "        features: ['dialog', 'act', 'emotion'],\n",
       "        num_rows: 1000\n",
       "    })\n",
       "    test: Dataset({\n",
       "        features: ['dialog', 'act', 'emotion'],\n",
       "        num_rows: 1000\n",
       "    })\n",
       "})"
      ]
     },
     "execution_count": 7,
     "metadata": {},
     "output_type": "execute_result"
    }
   ],
   "source": [
    "dataset = load_dataset(\"daily_dialog\", trust_remote_code=True)\n",
    "\n",
    "dataset"
   ]
  },
  {
   "cell_type": "code",
   "execution_count": 8,
   "metadata": {},
   "outputs": [
    {
     "data": {
      "text/plain": [
       "{'dialog': ['Say , Jim , how about going for a few beers after dinner ? ',\n",
       "  ' You know that is tempting but is really not good for our fitness . ',\n",
       "  ' What do you mean ? It will help us to relax . ',\n",
       "  \" Do you really think so ? I don't . It will just make us fat and act silly . Remember last time ? \",\n",
       "  \" I guess you are right.But what shall we do ? I don't feel like sitting at home . \",\n",
       "  ' I suggest a walk over to the gym where we can play singsong and meet some of our friends . ',\n",
       "  \" That's a good idea . I hear Mary and Sally often go there to play pingpong.Perhaps we can make a foursome with them . \",\n",
       "  ' Sounds great to me ! If they are willing , we could ask them to go dancing with us.That is excellent exercise and fun , too . ',\n",
       "  \" Good.Let ' s go now . \",\n",
       "  ' All right . '],\n",
       " 'act': [3, 4, 2, 2, 2, 3, 4, 1, 3, 4],\n",
       " 'emotion': [0, 0, 0, 0, 0, 0, 4, 4, 4, 4]}"
      ]
     },
     "execution_count": 8,
     "metadata": {},
     "output_type": "execute_result"
    }
   ],
   "source": [
    "dataset[\"train\"][0]"
   ]
  },
  {
   "cell_type": "markdown",
   "metadata": {},
   "source": [
    "## Empathetic_dialogue"
   ]
  },
  {
   "cell_type": "code",
   "execution_count": null,
   "metadata": {},
   "outputs": [
    {
     "data": {
      "text/html": [
       "<div>\n",
       "<style scoped>\n",
       "    .dataframe tbody tr th:only-of-type {\n",
       "        vertical-align: middle;\n",
       "    }\n",
       "\n",
       "    .dataframe tbody tr th {\n",
       "        vertical-align: top;\n",
       "    }\n",
       "\n",
       "    .dataframe thead th {\n",
       "        text-align: right;\n",
       "    }\n",
       "</style>\n",
       "<table border=\"1\" class=\"dataframe\">\n",
       "  <thead>\n",
       "    <tr style=\"text-align: right;\">\n",
       "      <th></th>\n",
       "      <th>Unnamed: 0</th>\n",
       "      <th>Situation</th>\n",
       "      <th>emotion</th>\n",
       "      <th>empathetic_dialogues</th>\n",
       "      <th>labels</th>\n",
       "      <th>Unnamed: 5</th>\n",
       "      <th>Unnamed: 6</th>\n",
       "    </tr>\n",
       "  </thead>\n",
       "  <tbody>\n",
       "    <tr>\n",
       "      <th>0</th>\n",
       "      <td>0</td>\n",
       "      <td>I remember going to the fireworks with my best...</td>\n",
       "      <td>sentimental</td>\n",
       "      <td>Customer :I remember going to see the firework...</td>\n",
       "      <td>Was this a friend you were in love with, or ju...</td>\n",
       "      <td>NaN</td>\n",
       "      <td>NaN</td>\n",
       "    </tr>\n",
       "    <tr>\n",
       "      <th>1</th>\n",
       "      <td>1</td>\n",
       "      <td>I remember going to the fireworks with my best...</td>\n",
       "      <td>sentimental</td>\n",
       "      <td>Customer :This was a best friend. I miss her.\\...</td>\n",
       "      <td>Where has she gone?</td>\n",
       "      <td>NaN</td>\n",
       "      <td>NaN</td>\n",
       "    </tr>\n",
       "    <tr>\n",
       "      <th>2</th>\n",
       "      <td>2</td>\n",
       "      <td>I remember going to the fireworks with my best...</td>\n",
       "      <td>sentimental</td>\n",
       "      <td>Customer :We no longer talk.\\nAgent :</td>\n",
       "      <td>Oh was this something that happened because of...</td>\n",
       "      <td>NaN</td>\n",
       "      <td>NaN</td>\n",
       "    </tr>\n",
       "    <tr>\n",
       "      <th>3</th>\n",
       "      <td>3</td>\n",
       "      <td>I remember going to the fireworks with my best...</td>\n",
       "      <td>sentimental</td>\n",
       "      <td>Customer :Was this a friend you were in love w...</td>\n",
       "      <td>This was a best friend. I miss her.</td>\n",
       "      <td>NaN</td>\n",
       "      <td>NaN</td>\n",
       "    </tr>\n",
       "    <tr>\n",
       "      <th>4</th>\n",
       "      <td>4</td>\n",
       "      <td>I remember going to the fireworks with my best...</td>\n",
       "      <td>sentimental</td>\n",
       "      <td>Customer :Where has she gone?\\nAgent :</td>\n",
       "      <td>We no longer talk.</td>\n",
       "      <td>NaN</td>\n",
       "      <td>NaN</td>\n",
       "    </tr>\n",
       "  </tbody>\n",
       "</table>\n",
       "</div>"
      ],
      "text/plain": [
       "   Unnamed: 0                                          Situation      emotion  \\\n",
       "0           0  I remember going to the fireworks with my best...  sentimental   \n",
       "1           1  I remember going to the fireworks with my best...  sentimental   \n",
       "2           2  I remember going to the fireworks with my best...  sentimental   \n",
       "3           3  I remember going to the fireworks with my best...  sentimental   \n",
       "4           4  I remember going to the fireworks with my best...  sentimental   \n",
       "\n",
       "                                empathetic_dialogues  \\\n",
       "0  Customer :I remember going to see the firework...   \n",
       "1  Customer :This was a best friend. I miss her.\\...   \n",
       "2              Customer :We no longer talk.\\nAgent :   \n",
       "3  Customer :Was this a friend you were in love w...   \n",
       "4             Customer :Where has she gone?\\nAgent :   \n",
       "\n",
       "                                              labels Unnamed: 5 Unnamed: 6  \n",
       "0  Was this a friend you were in love with, or ju...        NaN        NaN  \n",
       "1                                Where has she gone?        NaN        NaN  \n",
       "2  Oh was this something that happened because of...        NaN        NaN  \n",
       "3                This was a best friend. I miss her.        NaN        NaN  \n",
       "4                                 We no longer talk.        NaN        NaN  "
      ]
     },
     "execution_count": 70,
     "metadata": {},
     "output_type": "execute_result"
    }
   ],
   "source": [
    "df = pd.read_csv(\"empathetic-dialogues-facebook-ai/emotion-emotion_69k.csv\")\n",
    "df.head()"
   ]
  },
  {
   "cell_type": "code",
   "execution_count": 71,
   "metadata": {},
   "outputs": [],
   "source": [
    "# removing the Customer:, and agent: part from the 'empethetic_dialogues' column\n",
    "df['extracted_text'] = df['empathetic_dialogues'].apply(lambda x: re.findall(r':\\s*(.*?)\\n', x)[0] if re.findall(r':\\s*(.*?)\\n', x) else None)\n",
    "# keeping only the extracted_text, and labels columns\n",
    "cleaned_df = df[[\"extracted_text\", \"labels\"]].copy()"
   ]
  },
  {
   "cell_type": "code",
   "execution_count": 72,
   "metadata": {},
   "outputs": [
    {
     "data": {
      "text/plain": [
       "Index([ 1419,  1420,  1421,  1422,  2546,  2547,  2548,  3722,  3723,  3724,\n",
       "        3725,  3726, 20933, 20934, 20935, 20936, 23485, 23486, 23487, 23488,\n",
       "       28674, 28675, 28676, 31743, 31744, 31745, 35867, 35868, 35869, 35870,\n",
       "       35871, 40194, 40195, 40196, 40197, 42140, 42141, 42142, 53778, 53779,\n",
       "       53780, 53781, 64217, 64218, 64219],\n",
       "      dtype='int64')"
      ]
     },
     "execution_count": 72,
     "metadata": {},
     "output_type": "execute_result"
    }
   ],
   "source": [
    "# these rows have parsing problems\n",
    "cleaned_df[cleaned_df.isna().any(axis=1)].index\n",
    "# these indexes are special case : [23485, 23486, 23487, 23488]"
   ]
  },
  {
   "cell_type": "code",
   "execution_count": 73,
   "metadata": {},
   "outputs": [],
   "source": [
    "# Drop the rows with the parsing problem\n",
    "cleaned_df.drop(index=cleaned_df[cleaned_df.isna().any(axis=1)].index, inplace=True, axis=0)"
   ]
  },
  {
   "cell_type": "code",
   "execution_count": 74,
   "metadata": {},
   "outputs": [],
   "source": [
    "# This code is for the correction of the first subrows with parsing problems\n",
    "df_v1 = df.iloc[[1419,  1420,  1421,  1422,  2546,  2547,  2548,  3722,  3723,  3724, 3725,  3726, 20933, 20934, 20935, 20936, 28674, 28675, \n",
    "                 28676, 31743, 31744, 31745, 35867, 35868, 35869, 35870, 35871, 40194, 40195, 40196, 40197, 42140, 42141, 42142, 53778, 53779,\n",
    "                 53780, 53781, 64217, 64218, 64219]].copy()\n",
    "df_v1['extracted_text'] = df_v1['labels'].apply(lambda x: re.findall(r':\\s*(.*?)\\n', x)[0] if re.findall(r':\\s*(.*?)\\n', x) else None)\n",
    "df_v1['labels'] = df_v1[\"Unnamed: 5\"]\n",
    "# And this is for the seconde subrows\n",
    "df_v2 = df.iloc[[23485, 23486, 23487, 23488]].copy()\n",
    "df_v2['extracted_text'] = df_v2['Unnamed: 5'].apply(lambda x: re.findall(r':\\s*(.*?)\\n', x)[0] if re.findall(r':\\s*(.*?)\\n', x) else None)\n",
    "df_v2['labels'] = df_v2[\"Unnamed: 6\"]\n",
    "# Then we reconcat all of the data\n",
    "cleaned_df = pd.concat([cleaned_df,df_v1[[\"extracted_text\", \"labels\"]], df_v2[[\"extracted_text\", \"labels\"]]], axis=0)\n"
   ]
  },
  {
   "cell_type": "code",
   "execution_count": 75,
   "metadata": {},
   "outputs": [
    {
     "data": {
      "text/html": [
       "<div>\n",
       "<style scoped>\n",
       "    .dataframe tbody tr th:only-of-type {\n",
       "        vertical-align: middle;\n",
       "    }\n",
       "\n",
       "    .dataframe tbody tr th {\n",
       "        vertical-align: top;\n",
       "    }\n",
       "\n",
       "    .dataframe thead th {\n",
       "        text-align: right;\n",
       "    }\n",
       "</style>\n",
       "<table border=\"1\" class=\"dataframe\">\n",
       "  <thead>\n",
       "    <tr style=\"text-align: right;\">\n",
       "      <th></th>\n",
       "      <th>extracted_text</th>\n",
       "      <th>labels</th>\n",
       "    </tr>\n",
       "  </thead>\n",
       "  <tbody>\n",
       "    <tr>\n",
       "      <th>1423</th>\n",
       "      <td>One night, i hugged my wife and told her i lov...</td>\n",
       "      <td>Aww! That's so sweet! How long have you been m...</td>\n",
       "    </tr>\n",
       "    <tr>\n",
       "      <th>1424</th>\n",
       "      <td>I went to work and got a big raise. I rushed h...</td>\n",
       "      <td>That's very exciting! Congratulations on your ...</td>\n",
       "    </tr>\n",
       "    <tr>\n",
       "      <th>1425</th>\n",
       "      <td>Aww! That's so sweet! How long have you been m...</td>\n",
       "      <td>I went to work and got a big raise. I rushed h...</td>\n",
       "    </tr>\n",
       "    <tr>\n",
       "      <th>1426</th>\n",
       "      <td>That's very exciting! Congratulations on your ...</td>\n",
       "      <td>When i got home, all of the furniture, my wife...</td>\n",
       "    </tr>\n",
       "    <tr>\n",
       "      <th>2553</th>\n",
       "      <td>High school sweethearts, that's so special. Do...</td>\n",
       "      <td>No not at all, I feel so so lucky that I met h...</td>\n",
       "    </tr>\n",
       "    <tr>\n",
       "      <th>2554</th>\n",
       "      <td>Your outlook on love is really refreshing. I w...</td>\n",
       "      <td>Thank you very much, I'm wishing/praying the b...</td>\n",
       "    </tr>\n",
       "    <tr>\n",
       "      <th>2555</th>\n",
       "      <td>How can people be stupid enough to step on you...</td>\n",
       "      <td>That is a disgrace. Some people just do not ge...</td>\n",
       "    </tr>\n",
       "    <tr>\n",
       "      <th>3734</th>\n",
       "      <td>It had it's ups and downs which is why I wonde...</td>\n",
       "      <td>Do you have kids?</td>\n",
       "    </tr>\n",
       "    <tr>\n",
       "      <th>3735</th>\n",
       "      <td>I do, which is one of the reasons I'm so excited.</td>\n",
       "      <td>It's never to late to start new. You guys will...</td>\n",
       "    </tr>\n",
       "    <tr>\n",
       "      <th>3736</th>\n",
       "      <td>Was it a nice one?</td>\n",
       "      <td>It had it's ups and downs which is why I wonde...</td>\n",
       "    </tr>\n",
       "    <tr>\n",
       "      <th>3737</th>\n",
       "      <td>Do you have kids?</td>\n",
       "      <td>I do, which is one of the reasons I'm so excited.</td>\n",
       "    </tr>\n",
       "    <tr>\n",
       "      <th>3738</th>\n",
       "      <td>I have been ordering out for the past two weeks.</td>\n",
       "      <td>Is it too hot to cook or do you just hate cook...</td>\n",
       "    </tr>\n",
       "    <tr>\n",
       "      <th>20949</th>\n",
       "      <td>Pretty envious that my friend can go out and b...</td>\n",
       "      <td>Ohhh gotta hate that friend!   What do you drive?</td>\n",
       "    </tr>\n",
       "    <tr>\n",
       "      <th>20950</th>\n",
       "      <td>An old beat up car that I need to replace but ...</td>\n",
       "      <td>I drive a gianormous conversion van</td>\n",
       "    </tr>\n",
       "    <tr>\n",
       "      <th>20951</th>\n",
       "      <td>Ohhh gotta hate that friend!   What do you drive?</td>\n",
       "      <td>An old beat up car that I need to replace but ...</td>\n",
       "    </tr>\n",
       "    <tr>\n",
       "      <th>20952</th>\n",
       "      <td>Ahhhh I wish I was 18 again.. Things were so d...</td>\n",
       "      <td>In what ways do you mean?</td>\n",
       "    </tr>\n",
       "    <tr>\n",
       "      <th>23505</th>\n",
       "      <td>thats awesome. dont spoil anything, okay? :D</td>\n",
       "      <td>I wo't I am sad that it is ending</td>\n",
       "    </tr>\n",
       "    <tr>\n",
       "      <th>23506</th>\n",
       "      <td>well, true. me too</td>\n",
       "      <td>I cant wait for the final episode</td>\n",
       "    </tr>\n",
       "    <tr>\n",
       "      <th>23507</th>\n",
       "      <td>I took this calculus test last semester and I ...</td>\n",
       "      <td>oh that sucks.. sorry about that. but you can ...</td>\n",
       "    </tr>\n",
       "    <tr>\n",
       "      <th>23508</th>\n",
       "      <td>Yeah that's true, but I just thought I did so ...</td>\n",
       "      <td>I can feel your emotion.. dont worry, it happe...</td>\n",
       "    </tr>\n",
       "    <tr>\n",
       "      <th>28697</th>\n",
       "      <td>Yep. Then there's graduation and prom in may.</td>\n",
       "      <td>And in between football games and soccer games...</td>\n",
       "    </tr>\n",
       "    <tr>\n",
       "      <th>28698</th>\n",
       "      <td>So true! I wish my phone would just do it auto...</td>\n",
       "      <td>I know Google Photos has a little reminder thi...</td>\n",
       "    </tr>\n",
       "    <tr>\n",
       "      <th>28699</th>\n",
       "      <td>That's my favorite part of facebook!  Especial...</td>\n",
       "      <td>I know right!  I love it!</td>\n",
       "    </tr>\n",
       "    <tr>\n",
       "      <th>31769</th>\n",
       "      <td>It seems to be happening a lot because my best...</td>\n",
       "      <td>Stay strong! Hopefully in the future she can h...</td>\n",
       "    </tr>\n",
       "    <tr>\n",
       "      <th>31770</th>\n",
       "      <td>I'm so sorry to hear that! My sister went thro...</td>\n",
       "      <td>It seems to be happening a lot because my best...</td>\n",
       "    </tr>\n",
       "    <tr>\n",
       "      <th>31771</th>\n",
       "      <td>My wife went on a business trip for two weeks....</td>\n",
       "      <td>Aw, that's never fun.  My husband used to trav...</td>\n",
       "    </tr>\n",
       "    <tr>\n",
       "      <th>35898</th>\n",
       "      <td>I think so, I owuld like a better job but that...</td>\n",
       "      <td>Well that's good. IT will come it you work for...</td>\n",
       "    </tr>\n",
       "    <tr>\n",
       "      <th>35899</th>\n",
       "      <td>Are you happy now?</td>\n",
       "      <td>I think so, I owuld like a better job but that...</td>\n",
       "    </tr>\n",
       "    <tr>\n",
       "      <th>35900</th>\n",
       "      <td>Three is a good number of kids for me</td>\n",
       "      <td>How many do you have now?</td>\n",
       "    </tr>\n",
       "    <tr>\n",
       "      <th>35901</th>\n",
       "      <td>Three. I think I am done lol</td>\n",
       "      <td>Oh, well there you go, good choice!</td>\n",
       "    </tr>\n",
       "    <tr>\n",
       "      <th>35902</th>\n",
       "      <td>How many do you have now?</td>\n",
       "      <td>Three. I think I am done lol</td>\n",
       "    </tr>\n",
       "    <tr>\n",
       "      <th>40229</th>\n",
       "      <td>That's a good spot then</td>\n",
       "      <td>Indeed. Turns out we were still paying for ope...</td>\n",
       "    </tr>\n",
       "    <tr>\n",
       "      <th>40230</th>\n",
       "      <td>The sun is shining here and I have the day to ...</td>\n",
       "      <td>Must be nice, planning anything exciting?</td>\n",
       "    </tr>\n",
       "    <tr>\n",
       "      <th>40231</th>\n",
       "      <td>No - I think I'll go a walk and come home to w...</td>\n",
       "      <td>Thats fair, so long as you destress and have a...</td>\n",
       "    </tr>\n",
       "    <tr>\n",
       "      <th>40232</th>\n",
       "      <td>Exactly - a nice day of chillaxing.</td>\n",
       "      <td>But you know, if you have some time off might ...</td>\n",
       "    </tr>\n",
       "    <tr>\n",
       "      <th>42178</th>\n",
       "      <td>I'm so jealous of my friend's new girlfriend. ...</td>\n",
       "      <td>The perfect person for you will come soon enough</td>\n",
       "    </tr>\n",
       "    <tr>\n",
       "      <th>42179</th>\n",
       "      <td>Hopefully, maybe I need to focus on myself mor...</td>\n",
       "      <td>Stay positive!</td>\n",
       "    </tr>\n",
       "    <tr>\n",
       "      <th>42180</th>\n",
       "      <td>The perfect person for you will come soon enough</td>\n",
       "      <td>Hopefully, maybe I need to focus on myself mor...</td>\n",
       "    </tr>\n",
       "    <tr>\n",
       "      <th>53820</th>\n",
       "      <td>Have you ever invited someone over for dinner ...</td>\n",
       "      <td>Oh, no! What happened?</td>\n",
       "    </tr>\n",
       "    <tr>\n",
       "      <th>53821</th>\n",
       "      <td>Well I made them dinner fixed their plate gave...</td>\n",
       "      <td>Oh wow! That's like the worst nightmare! I'm s...</td>\n",
       "    </tr>\n",
       "    <tr>\n",
       "      <th>53822</th>\n",
       "      <td>Oh, no! What happened?</td>\n",
       "      <td>Well I made them dinner fixed their plate gave...</td>\n",
       "    </tr>\n",
       "    <tr>\n",
       "      <th>53823</th>\n",
       "      <td>once i pooped my pants at walmart</td>\n",
       "      <td>Were you able to get out of there without anyb...</td>\n",
       "    </tr>\n",
       "    <tr>\n",
       "      <th>64262</th>\n",
       "      <td>Well, no one was sitting immediately right bes...</td>\n",
       "      <td>That is great well know you know what not to d...</td>\n",
       "    </tr>\n",
       "    <tr>\n",
       "      <th>64263</th>\n",
       "      <td>That is funny i feel like someone should have ...</td>\n",
       "      <td>Well, no one was sitting immediately right bes...</td>\n",
       "    </tr>\n",
       "    <tr>\n",
       "      <th>64264</th>\n",
       "      <td>my cat keeps bting me!</td>\n",
       "      <td>How long have you had it?</td>\n",
       "    </tr>\n",
       "  </tbody>\n",
       "</table>\n",
       "</div>"
      ],
      "text/plain": [
       "                                          extracted_text  \\\n",
       "1423   One night, i hugged my wife and told her i lov...   \n",
       "1424   I went to work and got a big raise. I rushed h...   \n",
       "1425   Aww! That's so sweet! How long have you been m...   \n",
       "1426   That's very exciting! Congratulations on your ...   \n",
       "2553   High school sweethearts, that's so special. Do...   \n",
       "2554   Your outlook on love is really refreshing. I w...   \n",
       "2555   How can people be stupid enough to step on you...   \n",
       "3734   It had it's ups and downs which is why I wonde...   \n",
       "3735   I do, which is one of the reasons I'm so excited.   \n",
       "3736                                  Was it a nice one?   \n",
       "3737                                   Do you have kids?   \n",
       "3738    I have been ordering out for the past two weeks.   \n",
       "20949  Pretty envious that my friend can go out and b...   \n",
       "20950  An old beat up car that I need to replace but ...   \n",
       "20951  Ohhh gotta hate that friend!   What do you drive?   \n",
       "20952  Ahhhh I wish I was 18 again.. Things were so d...   \n",
       "23505       thats awesome. dont spoil anything, okay? :D   \n",
       "23506                                 well, true. me too   \n",
       "23507  I took this calculus test last semester and I ...   \n",
       "23508  Yeah that's true, but I just thought I did so ...   \n",
       "28697     Yep. Then there's graduation and prom in may.    \n",
       "28698  So true! I wish my phone would just do it auto...   \n",
       "28699  That's my favorite part of facebook!  Especial...   \n",
       "31769  It seems to be happening a lot because my best...   \n",
       "31770  I'm so sorry to hear that! My sister went thro...   \n",
       "31771  My wife went on a business trip for two weeks....   \n",
       "35898  I think so, I owuld like a better job but that...   \n",
       "35899                                 Are you happy now?   \n",
       "35900              Three is a good number of kids for me   \n",
       "35901                       Three. I think I am done lol   \n",
       "35902                          How many do you have now?   \n",
       "40229                            That's a good spot then   \n",
       "40230  The sun is shining here and I have the day to ...   \n",
       "40231  No - I think I'll go a walk and come home to w...   \n",
       "40232                Exactly - a nice day of chillaxing.   \n",
       "42178  I'm so jealous of my friend's new girlfriend. ...   \n",
       "42179  Hopefully, maybe I need to focus on myself mor...   \n",
       "42180   The perfect person for you will come soon enough   \n",
       "53820  Have you ever invited someone over for dinner ...   \n",
       "53821  Well I made them dinner fixed their plate gave...   \n",
       "53822                             Oh, no! What happened?   \n",
       "53823                  once i pooped my pants at walmart   \n",
       "64262  Well, no one was sitting immediately right bes...   \n",
       "64263  That is funny i feel like someone should have ...   \n",
       "64264                             my cat keeps bting me!   \n",
       "\n",
       "                                                  labels  \n",
       "1423   Aww! That's so sweet! How long have you been m...  \n",
       "1424   That's very exciting! Congratulations on your ...  \n",
       "1425   I went to work and got a big raise. I rushed h...  \n",
       "1426   When i got home, all of the furniture, my wife...  \n",
       "2553   No not at all, I feel so so lucky that I met h...  \n",
       "2554   Thank you very much, I'm wishing/praying the b...  \n",
       "2555   That is a disgrace. Some people just do not ge...  \n",
       "3734                                   Do you have kids?  \n",
       "3735   It's never to late to start new. You guys will...  \n",
       "3736   It had it's ups and downs which is why I wonde...  \n",
       "3737   I do, which is one of the reasons I'm so excited.  \n",
       "3738   Is it too hot to cook or do you just hate cook...  \n",
       "20949  Ohhh gotta hate that friend!   What do you drive?  \n",
       "20950                I drive a gianormous conversion van  \n",
       "20951  An old beat up car that I need to replace but ...  \n",
       "20952                          In what ways do you mean?  \n",
       "23505                  I wo't I am sad that it is ending  \n",
       "23506                  I cant wait for the final episode  \n",
       "23507  oh that sucks.. sorry about that. but you can ...  \n",
       "23508  I can feel your emotion.. dont worry, it happe...  \n",
       "28697  And in between football games and soccer games...  \n",
       "28698  I know Google Photos has a little reminder thi...  \n",
       "28699                          I know right!  I love it!  \n",
       "31769  Stay strong! Hopefully in the future she can h...  \n",
       "31770  It seems to be happening a lot because my best...  \n",
       "31771  Aw, that's never fun.  My husband used to trav...  \n",
       "35898  Well that's good. IT will come it you work for...  \n",
       "35899  I think so, I owuld like a better job but that...  \n",
       "35900                          How many do you have now?  \n",
       "35901                Oh, well there you go, good choice!  \n",
       "35902                       Three. I think I am done lol  \n",
       "40229  Indeed. Turns out we were still paying for ope...  \n",
       "40230          Must be nice, planning anything exciting?  \n",
       "40231  Thats fair, so long as you destress and have a...  \n",
       "40232  But you know, if you have some time off might ...  \n",
       "42178   The perfect person for you will come soon enough  \n",
       "42179                                     Stay positive!  \n",
       "42180  Hopefully, maybe I need to focus on myself mor...  \n",
       "53820                             Oh, no! What happened?  \n",
       "53821  Oh wow! That's like the worst nightmare! I'm s...  \n",
       "53822  Well I made them dinner fixed their plate gave...  \n",
       "53823  Were you able to get out of there without anyb...  \n",
       "64262  That is great well know you know what not to d...  \n",
       "64263  Well, no one was sitting immediately right bes...  \n",
       "64264                          How long have you had it?  "
      ]
     },
     "execution_count": 75,
     "metadata": {},
     "output_type": "execute_result"
    }
   ],
   "source": [
    "# And now we check. Voila!\n",
    "cleaned_df.iloc[[ 1419,  1420,  1421,  1422,  2546,  2547,  2548,  3722,  3723,  3724,\n",
    "        3725,  3726, 20933, 20934, 20935, 20936, 23485, 23486, 23487, 23488,\n",
    "       28674, 28675, 28676, 31743, 31744, 31745, 35867, 35868, 35869, 35870,\n",
    "       35871, 40194, 40195, 40196, 40197, 42140, 42141, 42142, 53778, 53779,\n",
    "       53780, 53781, 64217, 64218, 64219]]\n"
   ]
  },
  {
   "cell_type": "markdown",
   "metadata": {},
   "source": [
    "## Preprocessing"
   ]
  },
  {
   "cell_type": "code",
   "execution_count": null,
   "metadata": {},
   "outputs": [],
   "source": [
    "login(\n",
    "  token=\"--add your token here--\", # ADD YOUR TOKEN HERE\n",
    "  # add_to_git_credential=True\n",
    ")"
   ]
  },
  {
   "cell_type": "code",
   "execution_count": 4,
   "metadata": {},
   "outputs": [
    {
     "name": "stdout",
     "output_type": "stream",
     "text": [
      "[{'content': 'You are an emotional conversationalist. Users will talk to you in English and you will generate a response.', 'role': 'system'}, {'content': 'For real!  It is worse for me because no one else is here. :(', 'role': 'user'}, {'content': 'Yea, then you hae to do it all yourself', 'role': 'assistant'}]\n"
     ]
    },
    {
     "name": "stderr",
     "output_type": "stream",
     "text": [
      "Creating json from Arrow format: 100%|██████████| 52/52 [00:01<00:00, 43.84ba/s]\n",
      "Creating json from Arrow format: 100%|██████████| 7/7 [00:00<00:00, 53.34ba/s]\n",
      "Creating json from Arrow format: 100%|██████████| 7/7 [00:00<00:00, 52.27ba/s]\n"
     ]
    },
    {
     "data": {
      "text/plain": [
       "2241570"
      ]
     },
     "execution_count": 4,
     "metadata": {},
     "output_type": "execute_result"
    }
   ],
   "source": [
    "# Convert dataset to OAI messages\n",
    "system_message = \"\"\"You are an emotional conversationalist. Users will talk to you in English and you will generate a response.\"\"\"\n",
    " \n",
    "def create_conversation(sample):\n",
    "  return {\n",
    "    \"messages\": [\n",
    "      {\"role\": \"system\", \"content\": system_message},\n",
    "      {\"role\": \"user\", \"content\": sample[\"extracted_text\"]},\n",
    "      {\"role\": \"assistant\", \"content\": sample[\"labels\"]}\n",
    "    ]\n",
    "  }\n",
    " \n",
    "# Load dataset from the hub\n",
    "dataset = load_dataset(\"csv\", data_files=\"Data/cleaned_empethatic_dataset.csv\", split=\"train\")\n",
    "#dataset = dataset.shuffle().select(range(12500))\n",
    " \n",
    "# Convert dataset to OAI messages\n",
    "dataset = dataset.map(create_conversation, remove_columns=dataset.features,batched=False)\n",
    "# split dataset into 10,000 training samples and 2,500 test samples\n",
    "dataset_1 = dataset.train_test_split(test_size=0.2)\n",
    "dataset_2 = dataset_1[\"test\"].train_test_split(test_size=0.5)\n",
    "\n",
    "split_dataset = {\n",
    "    'train': dataset_1['train'],\n",
    "    'validation': dataset_2['train'],\n",
    "    'test': dataset_2['test']\n",
    "}\n",
    "\n",
    "new_dataset = DatasetDict(split_dataset)\n",
    "\n",
    " \n",
    "print(new_dataset[\"train\"][345][\"messages\"])\n",
    " \n",
    "# save datasets to disk\n",
    "new_dataset[\"train\"].to_json(\"Data/train_dataset.json\", orient=\"records\")\n",
    "new_dataset[\"validation\"].to_json(\"Data/validation_dataset.json\", orient=\"records\")\n",
    "new_dataset[\"test\"].to_json(\"Data/test_dataset.json\", orient=\"records\")"
   ]
  },
  {
   "cell_type": "markdown",
   "metadata": {},
   "source": [
    "## Training"
   ]
  },
  {
   "cell_type": "code",
   "execution_count": 5,
   "metadata": {},
   "outputs": [],
   "source": [
    "model_id = \"Qwen/Qwen1.5-0.5B-Chat\" # or `mistralai/Mistral-7B-v0.1`\n",
    " \n",
    "# BitsAndBytesConfig int-4 config\n",
    "\"\"\" bnb_config = BitsAndBytesConfig(\n",
    "    load_in_4bit=True, \n",
    "    bnb_4bit_use_double_quant=True, \n",
    "    bnb_4bit_quant_type=\"nf4\", \n",
    "    bnb_4bit_compute_dtype=torch.bfloat16\n",
    ") \"\"\"\n",
    " \n",
    "# Load model and tokenizer\n",
    "model = AutoModelForCausalLM.from_pretrained(\n",
    "    model_id,\n",
    "    device_map=\"auto\",\n",
    "    #attn_implementation=\"flash_attention_2\",\n",
    "    torch_dtype=torch.bfloat16,\n",
    "    #quantization_config=bnb_config\n",
    ")\n",
    "tokenizer = AutoTokenizer.from_pretrained(model_id)\n",
    "tokenizer.padding_side = 'right' # to prevent warnings"
   ]
  },
  {
   "cell_type": "code",
   "execution_count": 6,
   "metadata": {},
   "outputs": [
    {
     "name": "stderr",
     "output_type": "stream",
     "text": [
      "Generating train split: 51708 examples [00:00, 389835.39 examples/s]\n"
     ]
    }
   ],
   "source": [
    "# Load jsonl data from disk\n",
    "dataset = load_dataset(\"json\", data_files=\"Data/train_dataset.json\", split=\"train\")"
   ]
  },
  {
   "cell_type": "code",
   "execution_count": null,
   "metadata": {},
   "outputs": [],
   "source": [
    "# LoRA config based on QLoRA paper & Sebastian Raschka experiment\n",
    "peft_config = LoraConfig(\n",
    "        lora_alpha=128,\n",
    "        lora_dropout=0.05,\n",
    "        r=256,\n",
    "        bias=\"none\",\n",
    "        target_modules=\"all-linear\",\n",
    "        task_type=\"CAUSAL_LM\",\n",
    ")"
   ]
  },
  {
   "cell_type": "code",
   "execution_count": null,
   "metadata": {},
   "outputs": [],
   "source": [
    "args = TrainingArguments(\n",
    "    output_dir=\"code-Qwen1.5\", # directory to save and repository id\n",
    "    num_train_epochs=1,                     # number of training epochs\n",
    "    per_device_train_batch_size=3,          # batch size per device during training\n",
    "    gradient_accumulation_steps=3,          # number of steps before performing a backward/update pass\n",
    "    gradient_checkpointing=True,            # use gradient checkpointing to save memory\n",
    "    optim=\"adamw_torch_fused\",              # use fused adamw optimizer\n",
    "    logging_steps=10,                       # log every 10 steps\n",
    "    save_strategy=\"epoch\",                  # save checkpoint every epoch\n",
    "    learning_rate=2e-4,                     # learning rate, based on QLoRA paper\n",
    "    bf16=True,                              # use bfloat16 precision\n",
    "    tf32=True,                              # use tf32 precision\n",
    "    max_grad_norm=0.3,                      # max gradient norm based on QLoRA paper\n",
    "    warmup_ratio=0.03,                      # warmup ratio based on QLoRA paper\n",
    "    lr_scheduler_type=\"constant\",           # use constant learning rate scheduler\n",
    "    # push_to_hub=True,                       # push model to hub\n",
    "    report_to=\"tensorboard\",                # report metrics to tensorboard\n",
    ")"
   ]
  },
  {
   "cell_type": "code",
   "execution_count": 10,
   "metadata": {},
   "outputs": [
    {
     "name": "stdout",
     "output_type": "stream",
     "text": [
      "WARNING:tensorflow:From c:\\Users\\sabri\\Desktop\\GENAI Hackathon\\AI_that_feels\\my_env\\Lib\\site-packages\\tf_keras\\src\\losses.py:2976: The name tf.losses.sparse_softmax_cross_entropy is deprecated. Please use tf.compat.v1.losses.sparse_softmax_cross_entropy instead.\n",
      "\n"
     ]
    },
    {
     "name": "stderr",
     "output_type": "stream",
     "text": [
      "c:\\Users\\sabri\\Desktop\\GENAI Hackathon\\AI_that_feels\\my_env\\Lib\\site-packages\\huggingface_hub\\utils\\_deprecation.py:100: FutureWarning: Deprecated argument(s) used in '__init__': max_seq_length, packing, dataset_kwargs. Will not be supported from version '0.13.0'.\n",
      "\n",
      "Deprecated positional argument(s) used in SFTTrainer, please use the SFTConfig to set these arguments instead.\n",
      "  warnings.warn(message, FutureWarning)\n",
      "c:\\Users\\sabri\\Desktop\\GENAI Hackathon\\AI_that_feels\\my_env\\Lib\\site-packages\\trl\\trainer\\sft_trainer.py:212: UserWarning: You passed a `packing` argument to the SFTTrainer, the value you passed will override the one in the `SFTConfig`.\n",
      "  warnings.warn(\n",
      "c:\\Users\\sabri\\Desktop\\GENAI Hackathon\\AI_that_feels\\my_env\\Lib\\site-packages\\trl\\trainer\\sft_trainer.py:300: UserWarning: You passed a `max_seq_length` argument to the SFTTrainer, the value you passed will override the one in the `SFTConfig`.\n",
      "  warnings.warn(\n",
      "c:\\Users\\sabri\\Desktop\\GENAI Hackathon\\AI_that_feels\\my_env\\Lib\\site-packages\\trl\\trainer\\sft_trainer.py:334: UserWarning: You passed a `dataset_kwargs` argument to the SFTTrainer, the value you passed will override the one in the `SFTConfig`.\n",
      "  warnings.warn(\n",
      "Generating train split: 6954 examples [00:09, 720.67 examples/s]\n"
     ]
    }
   ],
   "source": [
    "max_seq_length = 512 # max sequence length for model and packing of the dataset\n",
    " \n",
    "trainer = SFTTrainer(\n",
    "    model=model,\n",
    "    args=args,\n",
    "    train_dataset=dataset,\n",
    "    peft_config=peft_config,\n",
    "    max_seq_length=max_seq_length,\n",
    "    tokenizer=tokenizer,\n",
    "    packing=True,\n",
    "    dataset_kwargs={\n",
    "        \"add_special_tokens\": False,  # We template with special tokens\n",
    "        \"append_concat_token\": False, # No need to add additional separator token\n",
    "    }\n",
    ")"
   ]
  },
  {
   "cell_type": "code",
   "execution_count": null,
   "metadata": {},
   "outputs": [],
   "source": [
    "# start training, the model will be automatically saved to the hub and the output directory\n",
    "trainer.train()"
   ]
  },
  {
   "cell_type": "markdown",
   "metadata": {},
   "source": [
    "## Inference"
   ]
  },
  {
   "cell_type": "code",
   "execution_count": null,
   "metadata": {},
   "outputs": [
    {
     "name": "stderr",
     "output_type": "stream",
     "text": [
      "The model 'PeftModelForCausalLM' is not supported for text-generation. Supported models are ['BartForCausalLM', 'BertLMHeadModel', 'BertGenerationDecoder', 'BigBirdForCausalLM', 'BigBirdPegasusForCausalLM', 'BioGptForCausalLM', 'BlenderbotForCausalLM', 'BlenderbotSmallForCausalLM', 'BloomForCausalLM', 'CamembertForCausalLM', 'LlamaForCausalLM', 'CodeGenForCausalLM', 'CohereForCausalLM', 'CpmAntForCausalLM', 'CTRLLMHeadModel', 'Data2VecTextForCausalLM', 'DbrxForCausalLM', 'ElectraForCausalLM', 'ErnieForCausalLM', 'FalconForCausalLM', 'FalconMambaForCausalLM', 'FuyuForCausalLM', 'GemmaForCausalLM', 'Gemma2ForCausalLM', 'GitForCausalLM', 'GlmForCausalLM', 'GPT2LMHeadModel', 'GPT2LMHeadModel', 'GPTBigCodeForCausalLM', 'GPTNeoForCausalLM', 'GPTNeoXForCausalLM', 'GPTNeoXJapaneseForCausalLM', 'GPTJForCausalLM', 'GraniteForCausalLM', 'GraniteMoeForCausalLM', 'JambaForCausalLM', 'JetMoeForCausalLM', 'LlamaForCausalLM', 'MambaForCausalLM', 'Mamba2ForCausalLM', 'MarianForCausalLM', 'MBartForCausalLM', 'MegaForCausalLM', 'MegatronBertForCausalLM', 'MistralForCausalLM', 'MixtralForCausalLM', 'MllamaForCausalLM', 'MoshiForCausalLM', 'MptForCausalLM', 'MusicgenForCausalLM', 'MusicgenMelodyForCausalLM', 'MvpForCausalLM', 'NemotronForCausalLM', 'OlmoForCausalLM', 'OlmoeForCausalLM', 'OpenLlamaForCausalLM', 'OpenAIGPTLMHeadModel', 'OPTForCausalLM', 'PegasusForCausalLM', 'PersimmonForCausalLM', 'PhiForCausalLM', 'Phi3ForCausalLM', 'PhimoeForCausalLM', 'PLBartForCausalLM', 'ProphetNetForCausalLM', 'QDQBertLMHeadModel', 'Qwen2ForCausalLM', 'Qwen2MoeForCausalLM', 'RecurrentGemmaForCausalLM', 'ReformerModelWithLMHead', 'RemBertForCausalLM', 'RobertaForCausalLM', 'RobertaPreLayerNormForCausalLM', 'RoCBertForCausalLM', 'RoFormerForCausalLM', 'RwkvForCausalLM', 'Speech2Text2ForCausalLM', 'StableLmForCausalLM', 'Starcoder2ForCausalLM', 'TransfoXLLMHeadModel', 'TrOCRForCausalLM', 'WhisperForCausalLM', 'XGLMForCausalLM', 'XLMWithLMHeadModel', 'XLMProphetNetForCausalLM', 'XLMRobertaForCausalLM', 'XLMRobertaXLForCausalLM', 'XLNetLMHeadModel', 'XmodForCausalLM', 'ZambaForCausalLM'].\n"
     ]
    }
   ],
   "source": [
    "peft_model_id = \"./model\"\n",
    " \n",
    "# Load Model with PEFT adapter\n",
    "model_2 = AutoPeftModelForCausalLM.from_pretrained(\n",
    "  peft_model_id,\n",
    "  device_map=\"auto\",\n",
    "  torch_dtype=torch.float16\n",
    ")\n",
    "tokenizer_2 = AutoTokenizer.from_pretrained(\"./model\")\n",
    "# load into pipeline \n",
    "pipe = pipeline(\"text-generation\", model=model_2, tokenizer=tokenizer_2)"
   ]
  },
  {
   "cell_type": "code",
   "execution_count": null,
   "metadata": {},
   "outputs": [
    {
     "name": "stderr",
     "output_type": "stream",
     "text": [
      "Generating train split: 6464 examples [00:00, 345393.15 examples/s]\n",
      "c:\\Users\\sabri\\Desktop\\GENAI Hackathon\\AI_that_feels\\my_env\\Lib\\site-packages\\transformers\\generation\\configuration_utils.py:590: UserWarning: `do_sample` is set to `False`. However, `temperature` is set to `0.1` -- this flag is only used in sample-based generation modes. You should set `do_sample=True` or unset `temperature`.\n",
      "  warnings.warn(\n",
      "c:\\Users\\sabri\\Desktop\\GENAI Hackathon\\AI_that_feels\\my_env\\Lib\\site-packages\\transformers\\generation\\configuration_utils.py:595: UserWarning: `do_sample` is set to `False`. However, `top_p` is set to `0.1` -- this flag is only used in sample-based generation modes. You should set `do_sample=True` or unset `top_p`.\n",
      "  warnings.warn(\n"
     ]
    },
    {
     "name": "stdout",
     "output_type": "stream",
     "text": [
      "Query:\n",
      "Are you sure? I think its bad\n",
      "Original Answer:\n",
      "No, only one extra day isn't bad.\n",
      "Generated Answer:\n",
      "I don't know, but I'm not sure if it's really bad or just a bad feeling.  I feel like I should be able to do it now, but I'm worried about the consequences.\n"
     ]
    }
   ],
   "source": [
    "# Load our test dataset\n",
    "eval_dataset = load_dataset(\"json\", data_files=\"Data/test_dataset.json\", split=\"train\")\n",
    "rand_idx = randint(0, len(eval_dataset))\n",
    " \n",
    "# Test on sample\n",
    "prompt = pipe.tokenizer.apply_chat_template(eval_dataset[rand_idx][\"messages\"][:2], tokenize=False, add_generation_prompt=True)\n",
    "outputs = pipe(prompt, max_new_tokens=256, do_sample=False, temperature=0.1, top_k=50, top_p=0.1, eos_token_id=pipe.tokenizer.eos_token_id, pad_token_id=pipe.tokenizer.pad_token_id)\n",
    " \n",
    "print(f\"Query:\\n{eval_dataset[rand_idx]['messages'][1]['content']}\")\n",
    "print(f\"Original Answer:\\n{eval_dataset[rand_idx]['messages'][2]['content']}\")\n",
    "print(f\"Generated Answer:\\n{outputs[0]['generated_text'][len(prompt):].strip()}\")"
   ]
  }
 ],
 "metadata": {
  "kernelspec": {
   "display_name": "my_env",
   "language": "python",
   "name": "python3"
  },
  "language_info": {
   "codemirror_mode": {
    "name": "ipython",
    "version": 3
   },
   "file_extension": ".py",
   "mimetype": "text/x-python",
   "name": "python",
   "nbconvert_exporter": "python",
   "pygments_lexer": "ipython3",
   "version": "3.12.7"
  }
 },
 "nbformat": 4,
 "nbformat_minor": 2
}
